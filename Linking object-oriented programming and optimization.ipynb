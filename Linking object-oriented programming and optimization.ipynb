{
 "cells": [
  {
   "cell_type": "markdown",
   "metadata": {},
   "source": [
    "# What is object-oriented programming?\n",
    "Say you want to calculate the area of a rectangle ($A = wl$, where $w$ is the width and $l$ is the length). Intuitively, you may do something like this:"
   ]
  },
  {
   "cell_type": "code",
   "execution_count": 5,
   "metadata": {},
   "outputs": [],
   "source": [
    "def rectangle_area(width, length):\n",
    "    return width * length"
   ]
  },
  {
   "cell_type": "markdown",
   "metadata": {},
   "source": [
    "This means, you would simply write a function that takes two numbers and returns the result. While this is a great way to do things for some tasks, more complex programming often becomes cumbersome this way. But it does not have to be this way. Some very smart people (see e.g. [here](http://web.eecs.utk.edu/~huangj/CS302S04/notes/oo-intro.html)) came up with the idea of classes and objects. Let's see what that means:"
   ]
  },
  {
   "cell_type": "code",
   "execution_count": 6,
   "metadata": {},
   "outputs": [],
   "source": [
    "class Rectangle:\n",
    "    def __init__(self, width, length):\n",
    "        self.width = width\n",
    "        self.length = length\n",
    "    \n",
    "    def area(self):\n",
    "        return self.width * self.length"
   ]
  },
  {
   "cell_type": "markdown",
   "metadata": {},
   "source": [
    "Before explaining in detail what is happening here, let's see that these two things do exactly the same:"
   ]
  },
  {
   "cell_type": "code",
   "execution_count": 7,
   "metadata": {},
   "outputs": [
    {
     "name": "stdout",
     "output_type": "stream",
     "text": [
      "Function version: 15\n",
      "Object-based version: 15\n"
     ]
    }
   ],
   "source": [
    "width = 3\n",
    "length = 5\n",
    "\n",
    "# Function evaluation\n",
    "print(f'Function version: {rectangle_area(width, length)}')\n",
    "\n",
    "# Object-based version:\n",
    "the_rectangle = Rectangle(width, length)\n",
    "print(f'Object-based version: {the_rectangle.area()}')\n"
   ]
  },
  {
   "cell_type": "markdown",
   "metadata": {},
   "source": [
    "So what are we doing here? Instead of simply writing down an equation, like in `rectangle_area`, we create an **instance** or a specific rectangle, which has a given width and length. And then we use these **properties** to evaluate the area.\n",
    "+ This means if you want to \"do\" a lot of things to this rectangle, you can have all of this information contained in one class. This makes it safe and easily readable.\n",
    "+ You can use classes in other classes. So for example you could make a `Point` class, which is then used in a `Line` class, which is then used in a `Triangle` class etc. This makes for intuitively readable code.\n",
    "\n",
    "# Linking optimization and object-oriented programming\n",
    "But how does this relate to optimization? Well, I'm going to show two ways here:\n",
    "\n",
    "## Indexing\n",
    "The first one is indexing. Optimization is choosing the best feasible values for our degrees of freedom based on a metric described by an objective function. Thus, lists and indexing always surround optimization models. Let's look at a simple minimum spanning tree model:\n",
    "\\begin{equation}\n",
    "\\begin{array}{ll}\n",
    "\\underset{x}{\\text{minimize}} & \\sum \\limits_{o,d} c_{o,d}x_{o,d} \\\\\n",
    "\\text{subject to} & \\sum \\limits_d x_{o,d} = 1, \\hspace{0.3cm} \\forall o \\in V \\\\\n",
    "& x_{o,d} \\in \\{0,1\\}\n",
    "\\end{array}\n",
    "\\end{equation}\n",
    "\n",
    "Before getting started, let's generate some random test data. We'll be using Xpress for the solution."
   ]
  },
  {
   "cell_type": "code",
   "execution_count": 10,
   "metadata": {},
   "outputs": [],
   "source": [
    "import xpress as xp\n",
    "import numpy as np\n",
    "from scipy import spatial\n",
    "\n",
    "n = 500 # Number of points\n",
    "V = 1e3 * np.random.rand(n,2) # Generate points and scale them.\n",
    "range_V = range(n)\n",
    "distances = spatial.distance.cdist(V,V)"
   ]
  },
  {
   "cell_type": "markdown",
   "metadata": {},
   "source": [
    "Intuitively, you may think of doing something like this:"
   ]
  },
  {
   "cell_type": "code",
   "execution_count": 12,
   "metadata": {},
   "outputs": [],
   "source": [
    "# Generate the model object\n",
    "mdl = xp.problem(\"Standard indexing\")\n",
    "\n",
    "# Create our variables and add them to the model\n",
    "x = {(o,d) : xp.var(vartype = xp.binary, lb = 0, ub = 1, name = f'x_{o},{d}') \n",
    "     for o in range_V for d in range_V if d != o}\n",
    "mdl.addVariable(x)\n",
    "\n",
    "# Create objective function - based on distance\n",
    "mdl.setObjective(xp.Sum(distances[o,d]*x[o,d] for o in range_V for d in range_V if d != o))\n",
    "\n",
    "# Set the constraint\n",
    "MinimumSpanningTree = [xp.constraint(xp.Sum(x[o,d] for d in range_V if d != o) == 1, \n",
    "                                     name = f'Enforce connection for x_{o}') for o in range_V]\n",
    "mdl.addConstraint(MinimumSpanningTree)\n",
    "\n",
    "mdl.solve()"
   ]
  },
  {
   "cell_type": "markdown",
   "metadata": {},
   "source": [
    "Here, we simply create our indices and run through them as need be. However, we can also see that we always need to include a `d != o` in any equation to make it work. Sure, we could define a list of tuples `(o,d)` and use that instead. But then let's imagine we want to change the cost function to have an individual cost for each connection - maybe a geographical feature of the physical system we are modelling. What then?\n",
    "\n",
    "Here, object-oriented programming comes to the rescue. Let's implement these two things that were mentioned and see how that looks:"
   ]
  },
  {
   "cell_type": "code",
   "execution_count": 13,
   "metadata": {},
   "outputs": [],
   "source": [
    "# Define the class used\n",
    "class Connection:\n",
    "    def __init__(self, origin, destination, cost_per_connection):\n",
    "        self.origin = origin\n",
    "        self.destination = destination\n",
    "        self.cost = cost_per_connection\n",
    "        \n",
    "# Create list of connections\n",
    "costs = np.random.rand(n,n)\n",
    "list_of_connections = [Connection(o,d,costs[o,d]) for o in range_V for d in range_V if d != o]\n",
    "        \n",
    "# Generate the model object\n",
    "mdl = xp.problem(\"Object-oriented approach\")\n",
    "\n",
    "# Create our variables and add them to the model\n",
    "x = {connection : xp.var(vartype = xp.binary, lb = 0, ub = 1, \n",
    "                         name = f'x_{connection.origin},{connection.destination}') \n",
    "     for connection in list_of_connections}\n",
    "mdl.addVariable(x)\n",
    "\n",
    "# Create objective function - based on distance\n",
    "mdl.setObjective(xp.Sum(connection.cost*x[connection] for connection in list_of_connections))\n",
    "\n",
    "# Set the constraint\n",
    "MinimumSpanningTree = [xp.constraint(xp.Sum(x[c] for c in list_of_connections if c.origin == o) == 1, \n",
    "                                     name = f'Enforce connection for x_{o}') for o in range_V]\n",
    "mdl.addConstraint(MinimumSpanningTree)\n",
    "\n",
    "mdl.solve()"
   ]
  },
  {
   "cell_type": "markdown",
   "metadata": {},
   "source": [
    "At first glance, this may look a bit clunky. However, consider e.g. the objective function: instead of drawing on another variable, which is defined somewhere else and somewhat \"floating\" around, we now have a tight connection between the variable object `x` and the thing it is meant to represent. Need to change the cost for a specific connection? No problem. Need to make this a capacitated problem? Simply add a `number_of_attached_nodes` property and describe a constraint with it. The possibilities are truly endless.\n",
    "\n",
    "## Model building\n",
    "When I look around the internet (e.g. the [git repo for docplex](https://github.com/IBMDecisionOptimization/docplex-examples/)), I often see code along the following lines:"
   ]
  },
  {
   "cell_type": "code",
   "execution_count": 1,
   "metadata": {},
   "outputs": [],
   "source": [
    "def Model(input_data):\n",
    "    mdl = create_model_object()\n",
    "    x = create_variables()\n",
    "    \n",
    "    mdl = create_constraint_1(mdl, x, input_data)\n",
    "    mdl = create_constraint_2(mdl, x, input_data)\n",
    "    \n",
    "    mdl = set_objective_function(mdl, x, input_data)\n",
    "    \n",
    "    mdl.solve()\n",
    "    \n",
    "    return mdl    "
   ]
  },
  {
   "cell_type": "markdown",
   "metadata": {},
   "source": [
    "In other words, it simply takes some input data, and then, confined within a bunch of functions, we create our model. This is technically totally fine, and it works. However, if you look at the code above, it does seem like we are repeating `mdl`, `x` and `input_data` quite a bit. If you then imagine something slightly more complicated, with e.g. some callbacks and conditionality, this very quickly blows up to be a 1500 line monster that you never intended for.\n",
    "\n",
    "So what to do? Well, again object orientation comes to the rescue. And I would even argue that it is more impactful here than in the indexing case, because it impacts a larger part of the codebase. Let's try to rewrite this example from above in object-oriented code:"
   ]
  },
  {
   "cell_type": "code",
   "execution_count": 6,
   "metadata": {},
   "outputs": [],
   "source": [
    "class Modeller:\n",
    "    # Here we define the properties of our modeller class\n",
    "    def __init__(self, input_data):\n",
    "        self.input_data = input_data\n",
    "        self.mdl = create_model_object()\n",
    "        self.x = create_variables()\n",
    "        self.objective = None\n",
    "    \n",
    "    def create_constraint_1(self):\n",
    "        # The content of the `create_constraint_1` function of before, but using the object\n",
    "        # properties self.input_data, self.mdl and self.x instead\n",
    "        self.mdl\n",
    "        \n",
    "    def create_constraint_2(self):\n",
    "        # As above\n",
    "        self.mdl\n",
    "        \n",
    "    def set_objective_function(self):\n",
    "        # As above\n",
    "        self.obective\n",
    "        \n",
    "    def model_creation_and_solution(self):\n",
    "        self.create_constraint_1()\n",
    "        self.create_constraint_2()\n",
    "        self.set_objective_function()\n",
    "        \n",
    "        self.mdl.solve()"
   ]
  },
  {
   "cell_type": "markdown",
   "metadata": {},
   "source": [
    "While this again may look longer than the functional programming counterpart, there are some clear advantages to this: first, you minimize the amount of **replicate calls** to `mdl`, `x` and `input_data`.\n",
    "\n",
    "Second, your object is now **responsible** for these properties (see the [SOLID](https://en.wikipedia.org/wiki/SOLID) pricinples for this), so when you write your constraints you don't have to worry about what goes in and out.\n",
    "\n",
    "Third, this is much more **testable**: while testing is not really easily done with optimization code (I may write something about that at some point), it is essential programming practice. Each block in this `Modeller` class is easily testable. Now you might say that the functional programming equivalent is also easily testable, and that is true to an extent, however it comes much more natural to this object-oriented setup.\n",
    "\n",
    "Lastly, it also **represents more accuratly** what you really want to do: in the object-orientation, you create your variables and model object and then say \"right, let's take this model and add some constraints\" or \"let's add an objective function\". In the functional programming way, you pass the entire model object back and forth for a simple constraint. That just does not feel right.\n",
    "\n",
    "# In conclusion\n",
    "I've written optimization applications in MATLAB, Python and C#, and I used to be really annoyed by the whole index tracking, needing to keep passing data back and forth. However, since I started being disciplined about using object-oriented programming, my code has become so much clearer and cleaner just with these two rules:\n",
    "1. Use objects to index when possible\n",
    "2. Create a Modeller class with the model object, model variables and objective function as properties and the constraints as methods.\n",
    "\n",
    "What do you think? Do you have any experience with object orientation in mathematical optimization?"
   ]
  },
  {
   "cell_type": "code",
   "execution_count": null,
   "metadata": {},
   "outputs": [],
   "source": []
  }
 ],
 "metadata": {
  "kernelspec": {
   "display_name": "Python 3",
   "language": "python",
   "name": "python3"
  },
  "language_info": {
   "codemirror_mode": {
    "name": "ipython",
    "version": 3
   },
   "file_extension": ".py",
   "mimetype": "text/x-python",
   "name": "python",
   "nbconvert_exporter": "python",
   "pygments_lexer": "ipython3",
   "version": "3.6.6"
  }
 },
 "nbformat": 4,
 "nbformat_minor": 2
}
