{
 "cells": [
  {
   "cell_type": "markdown",
   "metadata": {},
   "source": [
    "# How to test optimization problems\n",
    "When implementing a new model, we all make mistakes. Whether it is putting a $+$ where a $-$ should be, swapping $\\leq$ with $\\geq$ or adding a zero by accident. In most cases, we realize that something is wrong because we try to solve the model, and the result is infeasible when it shouldn't be or the result does not make sense. So we stare at the code until we see the problem, do a facepalm and move on.\n",
    "\n",
    "However, the more involved a model becomes, the more difficult this gets. So if you have a complicated scheduling model for a massive supply chain, finding out where the problem is can take hours, if not days. So what can we do about this? Turns out, in the software development world they have the exact same problem, and they came up with something called [unit tests](https://www.atlassian.com/continuous-delivery/software-testing/types-of-software-testing).\n",
    "\n",
    "Unit tests, like the name suggests, are tests that you run for a unit of code. Typically, a unit of code is a part of code that you cannot reduce any further, i.e. a modular building block for the rest of the code. The logic goes that if you test all your building blocks, then chances are that the code is correct. So how can we use this for optimization models? In this post I am going to give you a framework for how you can do this, but it requires that you follow my object-oriented coding practices that I laid out [here](https://github.com/RichardOberdieck/optimization-blog/blob/master/Linking%20object-oriented%20programming%20and%20optimization.ipynb). So in a nutshell, how do you test optimization problems?\n",
    "\n",
    "1) Write object oriented code\n",
    "\n",
    "2) Get small meaningful datasets for your model\n",
    "\n",
    "3) For each constraint type: create a bunch of scenarios which create feasible or infeasible models. Solve those instances and check whether your prediciton holds.\n",
    "\n",
    "5) For callbacks: follow the same principle, i.e. create a dummy model and only use the callback. Check result against expected result.\n",
    "\n",
    "## Small recap - what I will be using\n",
    "I'll be using Xpress, the community license for which you can get by running\n",
    "\n",
    "```conda install -c fico-xpress xpress```\n",
    "\n",
    "in the command prompt. You can find a short introduction to the Python API for Xpress [here](https://github.com/RichardOberdieck/optimization-blog/blob/master/The%20Xpress%20Python%20API.ipynb) As for the principles of object-oriented programming, they can be summarized as follows:\n",
    "\n",
    "1)\tUse a general, object oriented programming language\n",
    "\n",
    "2)\tUse classes for your model and indices\n",
    "\n",
    "3)\tEvery variable is a property in your model class\n",
    "\n",
    "4)\tEvery constraint, objective function and callback is a method in your model class\n",
    "\n",
    "5)\tThere are no other methods except these in your model class. If there are, have a good reason for them.\n",
    "\n",
    "Lastly, to show how an example on how to implement this, we'll be looking at a simple shipping problem:\n",
    "\\begin{equation}\n",
    "\\begin{array}{lll}\n",
    "\\underset{x}{\\text{minimize}} & \\sum \\limits_{o,d} c_{o,d}^Tx_{o,d} & \\text{Shipping cost} \\\\\n",
    "\\text{subject to} & \\sum \\limits_{o} x_{o,d} \\geq D_d, \\hspace{0.15cm} \\forall d & \\text{Demand satisfaction} \\\\\n",
    "& \\sum \\limits_{d} x_{o,d} \\leq S_o, \\hspace{0.15cm} \\forall o & \\text{Supply limitation} \\\\\n",
    "& 0 \\leq x_{o,d} \\leq S_o, \\hspace{0.15cm} \\forall o,d & \\text{Bounds}\n",
    "\\end{array}\n",
    "\\end{equation}"
   ]
  },
  {
   "cell_type": "code",
   "execution_count": 33,
   "metadata": {},
   "outputs": [],
   "source": [
    "# This is all the bookkeeping\n",
    "import xpress as xp\n",
    "import numpy as np\n",
    "import collections\n",
    "\n",
    "Coordinate = collections.namedtuple(\"Coordinate\", \"easting northing\")\n",
    "Origin = collections.namedtuple(\"Origin\", \"name coordinate supply_limit\")\n",
    "Destination = collections.namedtuple(\"Destination\", \"name coordinate demand\")\n",
    "class Connection:\n",
    "    def __init__(self, origin, destination):\n",
    "        self.origin = origin\n",
    "        self.destination = destination\n",
    "        self.distance = self.get_distance()\n",
    "    \n",
    "    def get_distance(self):\n",
    "        return np.sqrt((self.origin.coordinate.easting - self.destination.coordinate.easting)**2 + \n",
    "                       (self.origin.coordinate.northing - self.destination.coordinate.northing)**2)"
   ]
  },
  {
   "cell_type": "markdown",
   "metadata": {},
   "source": [
    "## Let's build the model\n",
    "Following the pricinples laid up above, let's build the model:"
   ]
  },
  {
   "cell_type": "code",
   "execution_count": 30,
   "metadata": {},
   "outputs": [],
   "source": [
    "class Modeller:\n",
    "    def __init__(self, connections, shipping_cost):\n",
    "        self.connections = connections\n",
    "        self.shipping_cost = shipping_cost\n",
    "        \n",
    "        # Let's define the variables and model object\n",
    "        self.x = self.get_variables()\n",
    "        self.mdl = xp.problem(\"Shipping problem\")\n",
    "        self.mdl.addVariable(self.x)\n",
    "        \n",
    "    def get_variables(self):\n",
    "        \"\"\"\n",
    "        This defines the variables used in the optimization.\n",
    "        \"\"\"\n",
    "        return {c : xp.var(vartype = xp.continuous, lb = 0, ub = c.origin.supply_limit, \n",
    "                           name = f'x_{c.origin.name,c.destination.name}') for c in self.connections}\n",
    "    \n",
    "    def get_shipping_cost(self):\n",
    "        return xp.Sum(self.shipping_cost * c.distance * self.x[c] for c in self.connections)\n",
    "    \n",
    "    def ensure_demand_satisfaction(self):\n",
    "        demand_satisfaction = [xp.constraint(xp.Sum(self.x[c] for c in self.connections if c.destination == d) \n",
    "                                             >= d.demand, name = f'Demand for {d.name}')\n",
    "                               for d in set([c.destination for c in self.connections])]\n",
    "        self.mdl.addConstraint(demand_satisfaction)\n",
    "        \n",
    "    def ensure_supply_limit(self):\n",
    "        supply_limit = [xp.constraint(xp.Sum(self.x[c] for c in self.connections if c.origin == o) <= o.supply_limit, \n",
    "                                            name = f'Supply limit {o.name}')\n",
    "                               for o in set([c.origin for c in self.connections])]\n",
    "        self.mdl.addConstraint(supply_limit)\n",
    "        \n",
    "    def build_model(self):\n",
    "        self.mdl.setObjective(self.get_shipping_cost())\n",
    "        self.ensure_demand_satisfaction()\n",
    "        self.ensure_supply_limit()\n",
    "    \n",
    "    def run_model(self):\n",
    "        self.build_model()\n",
    "        self.mdl.solve()\n",
    "        return self.get_shipping_quantities()\n",
    "    \n",
    "    def get_shipping_quantities(self):\n",
    "        return {(c.origin.name, c.destination.name) : self.mdl.getSolution(self.x[c]) for c in self.connections}"
   ]
  },
  {
   "cell_type": "markdown",
   "metadata": {},
   "source": [
    "## So how do we test now?\n",
    "This looks all nice and shiny now, but how do we actually test? Well, the basic idea is this:\n",
    "> We test each method by solving only using those constraints/objective function and check the expected result.\n",
    "\n",
    "This means, we end up with a bunch of test for each method, where we throw some values in, and check whether what we get out is also what we expect. For the objective function, we expect to get out a certain value (within machine precision), while for constraints we expect to get feasibility/infeasibility. Note that we **never** test multiple methods at the same time, i.e. you don't use the objective function when testing for constraints. The reason is that this way you create a dependency that you need to maintain forever.\n",
    "\n",
    "So how does this look in practice?\n",
    "\n",
    "### The data\n",
    "The first thing you need to test something is test data. So let's create a small test scenario:"
   ]
  },
  {
   "cell_type": "code",
   "execution_count": 34,
   "metadata": {},
   "outputs": [],
   "source": [
    "origins = [Origin(name = \"Odense\", coordinate = Coordinate(587760, 6140138), supply_limit = 110),\n",
    "          Origin(name = \"Kolding\", coordinate = Coordinate(530680, 6149322), supply_limit = 200)]\n",
    "destinations = [Destination(name = \"Copenhagen\", coordinate = Coordinate(347017, 6173983), demand = 100),\n",
    "               Destination(name = \"Hamburg\", coordinate = Coordinate(566407, 5933904), demand = 150)]\n",
    "connections = [Connection(o,d) for o in origins for d in destinations]\n",
    "shipping_cost = 50 # Per km and unit shipped"
   ]
  },
  {
   "cell_type": "markdown",
   "metadata": {},
   "source": [
    "### The test script\n",
    "The second thing you need is a small script that evaluates to `True` or `False`, and to which you know the answer to. Let's write a small example for the demand satisfaction:\n",
    "\\begin{equation}\n",
    "\\sum \\limits_{o} x_{o,d} \\geq D_d\n",
    "\\end{equation}"
   ]
  },
  {
   "cell_type": "code",
   "execution_count": 35,
   "metadata": {},
   "outputs": [],
   "source": [
    "def test_demand_satisfaction(connections):\n",
    "    model = Modeller(connections, 0)\n",
    "    model.ensure_demand_satisfaction()\n",
    "    model.mdl.solve()\n",
    "    return model.mdl.getProbStatus() != 2 "
   ]
  },
  {
   "cell_type": "markdown",
   "metadata": {},
   "source": [
    "To check whether we implemented everything correctly, we test out different values for $D_d$ and see whether the resulting problem is feasible or not. We know that we have a total of $110+200=310$ in supply, so any $D_d > 310$ should make the problem infeasible. Let's test!"
   ]
  },
  {
   "cell_type": "code",
   "execution_count": 39,
   "metadata": {},
   "outputs": [
    {
     "name": "stdout",
     "output_type": "stream",
     "text": [
      "Test result: True\n",
      "Test result: False\n"
     ]
    }
   ],
   "source": [
    "# The first case\n",
    "test_result = test_demand_satisfaction(connections)\n",
    "print(f'Test result: {test_result}')\n",
    "\n",
    "# Put in a set of demands that violate the constraint\n",
    "destinations = [Destination(name = \"Copenhagen\", coordinate = Coordinate(347017, 6173983), demand = 350),\n",
    "               Destination(name = \"Hamburg\", coordinate = Coordinate(566407, 5933904), demand = 10)]\n",
    "connections = [Connection(o,d) for o in origins for d in destinations]\n",
    "test_result = test_demand_satisfaction(connections)\n",
    "print(f'Test result: {test_result}')"
   ]
  },
  {
   "cell_type": "markdown",
   "metadata": {},
   "source": [
    "## What about variables and callbacks?\n",
    "Variable creation is not necessariy needed to be tested in most cases, as it is fairly straightforward. However, in some cases it may be a good idea, so just keep an eye out.\n",
    "\n",
    "Callbacks on the other hand are really tricky, because you cannot really decouple them from the whole optimization problem. So for example if you want to introduce cuts when an optimal solution has been found, then you need a full-fletched optimization problem to work this out.\n",
    "\n",
    "Unfortunately, as far as I know there is no way around this, meaning that you need to create the smallest possible instances of your full model and test those. I am really not happy about this, as it defeats the moduarity premise of unit tests, however if you have written unit tests for your constraints and all the other parts of your model, then you should be reasonably certain that a failure in a callback test will be related to the callback rather than a problematic constraint formulation.\n",
    "\n",
    "## How to maintain tests?\n",
    "By now I hopefully have convinced you that testing is a great idea. However, you may think now that it is really a lot of work to run these scripts manually all the time. Well, good news! There is A LOT of software out there helping you to write unit tests, running them automatically and showing whenever any of them fail.\n",
    "\n",
    "Two resoureces I would really recommend at this point for Python are [this](https://docs.python.org/3/library/unittest.html) and [this](https://docs.python-guide.org/writing/tests/) post, which explain how you do testing. But this applies to any language - even MATLAB has a [testing framework](https://www.mathworks.com/help/matlab/class-based-unit-tests.html).\n",
    "\n",
    "It's never to late to start writing tests. Your future self will say thank you!"
   ]
  }
 ],
 "metadata": {
  "kernelspec": {
   "display_name": "Python 3",
   "language": "python",
   "name": "python3"
  },
  "language_info": {
   "codemirror_mode": {
    "name": "ipython",
    "version": 3
   },
   "file_extension": ".py",
   "mimetype": "text/x-python",
   "name": "python",
   "nbconvert_exporter": "python",
   "pygments_lexer": "ipython3",
   "version": "3.6.8"
  }
 },
 "nbformat": 4,
 "nbformat_minor": 2
}
