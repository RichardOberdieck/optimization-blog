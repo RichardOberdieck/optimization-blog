{
 "cells": [
  {
   "cell_type": "markdown",
   "metadata": {},
   "source": [
    "# Why 'evaluate' is the feature I am missing the most from commercial MIP solvers\n",
    "If you use optimization out of the box in Python with `scipy`, then you are going to see something along these lines:"
   ]
  },
  {
   "cell_type": "code",
   "execution_count": 2,
   "metadata": {},
   "outputs": [],
   "source": [
    "import numpy as np\n",
    "from scipy.optimize import basinhopping\n",
    "\n",
    "func = lambda x: np.cos(14.5 * x - 0.3) + (x + 0.2) * x\n",
    "x0=[1.]\n",
    "minimizer_kwargs = {\"method\": \"BFGS\"}\n",
    "ret = basinhopping(func, x0, minimizer_kwargs=minimizer_kwargs, niter=200)"
   ]
  },
  {
   "cell_type": "markdown",
   "metadata": {},
   "source": [
    "Now, let's say you would like to check what the objective function evaluates to. Then, you could simply write:"
   ]
  },
  {
   "cell_type": "code",
   "execution_count": 4,
   "metadata": {},
   "outputs": [
    {
     "data": {
      "text/plain": [
       "25.001603108415402"
      ]
     },
     "execution_count": 4,
     "metadata": {},
     "output_type": "execute_result"
    }
   ],
   "source": [
    "func(5)"
   ]
  },
  {
   "cell_type": "markdown",
   "metadata": {},
   "source": [
    "This direct query makes testing and using across algorithms super easy, as you can simply check out `func` directly. However, what about commerical MIP solvers? Can we do the same?"
   ]
  },
  {
   "cell_type": "code",
   "execution_count": 12,
   "metadata": {},
   "outputs": [],
   "source": [
    "import xpress as xp\n",
    "\n",
    "# Define the model and variables\n",
    "Model = xp.problem()\n",
    "x = xp.var(lb=0, ub=10)\n",
    "Model.addVariable(x)\n",
    "\n",
    "# Define the objective and solve\n",
    "test_objective = 5*x\n",
    "Model.setObjective(test_objective)\n",
    "Model.solve()"
   ]
  },
  {
   "cell_type": "markdown",
   "metadata": {},
   "source": [
    "Ok, now we solved the problem. Can we check the objective function separately?"
   ]
  },
  {
   "cell_type": "code",
   "execution_count": 16,
   "metadata": {},
   "outputs": [
    {
     "ename": "TypeError",
     "evalue": "'xpress.linterm' object is not callable",
     "output_type": "error",
     "traceback": [
      "\u001b[1;31m---------------------------------------------------------------------------\u001b[0m",
      "\u001b[1;31mTypeError\u001b[0m                                 Traceback (most recent call last)",
      "\u001b[1;32m<ipython-input-16-ca7edf09e7e5>\u001b[0m in \u001b[0;36m<module>\u001b[1;34m\u001b[0m\n\u001b[1;32m----> 1\u001b[1;33m \u001b[0mtest_objective\u001b[0m\u001b[1;33m(\u001b[0m\u001b[1;36m5\u001b[0m\u001b[1;33m)\u001b[0m\u001b[1;33m\u001b[0m\u001b[1;33m\u001b[0m\u001b[0m\n\u001b[0m",
      "\u001b[1;31mTypeError\u001b[0m: 'xpress.linterm' object is not callable"
     ]
    }
   ],
   "source": [
    "test_objective(5)"
   ]
  },
  {
   "cell_type": "markdown",
   "metadata": {},
   "source": [
    "No, apparently not. But this is neither Xpress nor Python specific. To my knowledge, this does not exist in CPLEX or Gurobi, and it also does not exist in C# for Xpress. But why is the most important feature for me? There are three reasons:\n",
    "\n",
    "1) **Working with heuristics**: let's say I have a heuristic that tries to find a better solution by changing part of the solution. How can I check whether this heuristic, that does not use the solver, has found a better solution? Ther eis no way to simply evaluate the objective function and check. It is equally not possible to simply check whether the constraints are satisfied.\n",
    "\n",
    "2) **Testing**: To check whether a constraint behaves as we expect it to (terms added as they should etc.), it is necessary to evaluate a term. Not having this option makes the tests weaker and doesn't even allow you to run certain tests.\n",
    "\n",
    "3) **Interaction with user interface**: When developing optimization tools, I like to give the user a sense of the optimizer. Now let's say the user makes a manual change to a solution (e.g. it is a decision support system). When there is no \"evaluate\" possibility, then how can I give feedback to the user whether his/her change resulted in a better solution from the optimizers point of view?\n",
    "\n",
    "So, solver people, if you are reading this, please consider including in your expression/constraint objects the possibility for evaluation!"
   ]
  },
  {
   "cell_type": "markdown",
   "metadata": {},
   "source": [
    "## A cumbsy workaround\n",
    "I mean, you can do a workaround, by defining a separate problem and then fixing the variables there:"
   ]
  },
  {
   "cell_type": "code",
   "execution_count": null,
   "metadata": {},
   "outputs": [],
   "source": [
    "Model = xp.problem()\n",
    "x = xp.var(lb=0, ub=10)\n",
    "Model.addVariable(x)\n",
    "\n",
    "test_objective = 5*x\n",
    "Model.setObjective(test_objective)\n",
    "\n",
    "Model.addConstraint(x==5)\n",
    "Model.solve()\n",
    "\n",
    "Model.getObjVal()"
   ]
  },
  {
   "cell_type": "markdown",
   "metadata": {},
   "source": [
    "However, this has quite a bit of overhead and really does not compare well with the `scipy` approach. However, at least for testing, this is actually what I am forced to do at the moment."
   ]
  }
 ],
 "metadata": {
  "kernelspec": {
   "display_name": "Python 3",
   "language": "python",
   "name": "python3"
  },
  "language_info": {
   "codemirror_mode": {
    "name": "ipython",
    "version": 3
   },
   "file_extension": ".py",
   "mimetype": "text/x-python",
   "name": "python",
   "nbconvert_exporter": "python",
   "pygments_lexer": "ipython3",
   "version": "3.7.2"
  }
 },
 "nbformat": 4,
 "nbformat_minor": 2
}
